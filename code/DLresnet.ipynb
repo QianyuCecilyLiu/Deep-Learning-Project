{
 "cells": [
  {
   "cell_type": "code",
   "execution_count": null,
   "metadata": {
    "colab": {
     "base_uri": "https://localhost:8080/",
     "height": 124
    },
    "colab_type": "code",
    "id": "dZYXAsUuXPGl",
    "outputId": "124ba129-19c8-496a-fc7d-d9e7d0b1f449"
   },
   "outputs": [
    {
     "name": "stdout",
     "output_type": "stream",
     "text": [
      "Go to this URL in a browser: https://accounts.google.com/o/oauth2/auth?client_id=947318989803-6bn6qk8qdgf4n4g3pfee6491hc0brc4i.apps.googleusercontent.com&redirect_uri=urn%3Aietf%3Awg%3Aoauth%3A2.0%3Aoob&scope=email%20https%3A%2F%2Fwww.googleapis.com%2Fauth%2Fdocs.test%20https%3A%2F%2Fwww.googleapis.com%2Fauth%2Fdrive%20https%3A%2F%2Fwww.googleapis.com%2Fauth%2Fdrive.photos.readonly%20https%3A%2F%2Fwww.googleapis.com%2Fauth%2Fpeopleapi.readonly&response_type=code\n",
      "\n",
      "Enter your authorization code:\n",
      "··········\n",
      "Mounted at /content/drive\n"
     ]
    }
   ],
   "source": [
    "from google.colab import drive\n",
    "drive.mount('/content/drive')"
   ]
  },
  {
   "cell_type": "code",
   "execution_count": null,
   "metadata": {
    "colab": {},
    "colab_type": "code",
    "id": "krF6yaGRZM2z"
   },
   "outputs": [],
   "source": [
    "import torch\n",
    "import torch.nn as nn\n",
    "import torch.optim as optim\n",
    "from torch.optim import lr_scheduler\n",
    "import numpy as np\n",
    "import torchvision\n",
    "from torchvision import datasets, models, transforms\n",
    "import matplotlib.pyplot as plt\n",
    "import time\n",
    "import os\n",
    "import copy\n",
    "from PIL import Image\n",
    "from torch.utils.data import Dataset, DataLoader\n",
    "import torch.nn.functional as F\n",
    "\n",
    "%matplotlib inline\n",
    "plt.ion()   # interactive mode\n",
    "\n",
    "if torch.cuda.is_available():\n",
    "    torch.backends.cudnn.deterministic = True"
   ]
  },
  {
   "cell_type": "code",
   "execution_count": null,
   "metadata": {
    "colab": {
     "base_uri": "https://localhost:8080/",
     "height": 35
    },
    "colab_type": "code",
    "id": "u27YcVBjXuL6",
    "outputId": "650d32f6-cfed-4403-bc4b-34122e6c536b"
   },
   "outputs": [
    {
     "data": {
      "text/plain": [
       "'/content'"
      ]
     },
     "execution_count": 19,
     "metadata": {
      "tags": []
     },
     "output_type": "execute_result"
    }
   ],
   "source": [
    "import os\n",
    "os.getcwd()"
   ]
  },
  {
   "cell_type": "code",
   "execution_count": null,
   "metadata": {
    "colab": {
     "base_uri": "https://localhost:8080/",
     "height": 35
    },
    "colab_type": "code",
    "id": "d70jES2UYfy4",
    "outputId": "c6916227-21fa-4d64-983e-ddb9599ca9a5"
   },
   "outputs": [
    {
     "data": {
      "text/plain": [
       "['.config', 'drive', 'sample_data']"
      ]
     },
     "execution_count": 4,
     "metadata": {
      "tags": []
     },
     "output_type": "execute_result"
    }
   ],
   "source": [
    "os.listdir()"
   ]
  },
  {
   "cell_type": "code",
   "execution_count": null,
   "metadata": {
    "colab": {},
    "colab_type": "code",
    "id": "eVSY3D_3YkXQ"
   },
   "outputs": [],
   "source": [
    "data_dir = os.path.join('drive','My Drive','Colab Notebooks','DL_CNN','image') "
   ]
  },
  {
   "cell_type": "code",
   "execution_count": null,
   "metadata": {
    "colab": {},
    "colab_type": "code",
    "id": "NkTiQ8POZFjE"
   },
   "outputs": [],
   "source": [
    "data_transform = transforms.Compose([transforms.RandomRotation(90),\n",
    "                                     transforms.Resize([256,256]),\n",
    "                                     transforms.RandomVerticalFlip(p=0.5),\n",
    "                                     transforms.ToTensor(),\n",
    "                                     transforms.Normalize(mean=[0.485, 0.456, 0.406], std=[0.229, 0.224, 0.225])\n",
    "                                    ])\n",
    "image_datasets = {x: datasets.ImageFolder(os.path.join(data_dir,x), transform = data_transform) for x in ['train','test']}\n",
    "data_loaders = {x: DataLoader(image_datasets[x],\n",
    "                              batch_size = 16, \n",
    "                              shuffle = True, \n",
    "                              num_workers = 16) for x in ['train','test']}\n",
    "#data_loaders  ## right now data_loaders is a list contains two dataloader"
   ]
  },
  {
   "cell_type": "code",
   "execution_count": null,
   "metadata": {
    "colab": {
     "base_uri": "https://localhost:8080/",
     "height": 35
    },
    "colab_type": "code",
    "id": "ShSXo3jBZSe7",
    "outputId": "40ea4f17-48b0-4932-8a17-68eb04d2ecfe"
   },
   "outputs": [
    {
     "data": {
      "text/plain": [
       "{'test': 1296, 'train': 5885}"
      ]
     },
     "execution_count": 7,
     "metadata": {
      "tags": []
     },
     "output_type": "execute_result"
    }
   ],
   "source": [
    "dataset_sizes = {x: len(image_datasets[x]) for x in ['train','test']}\n",
    "dataset_sizes"
   ]
  },
  {
   "cell_type": "code",
   "execution_count": null,
   "metadata": {
    "colab": {
     "base_uri": "https://localhost:8080/",
     "height": 277
    },
    "colab_type": "code",
    "id": "nyPY38poZk-k",
    "outputId": "3968cbfd-eede-440f-8653-41c546307bfb"
   },
   "outputs": [
    {
     "data": {
      "text/plain": [
       "{'AnneHathaway': 0,\n",
       " 'DavidBowie': 1,\n",
       " 'EmiliaClarke': 2,\n",
       " 'EmmaStone': 3,\n",
       " 'GalGadot': 4,\n",
       " 'HughJachman': 5,\n",
       " 'JasonStatham': 6,\n",
       " 'JohnnyDepp': 7,\n",
       " 'LeonardoDicaprio': 8,\n",
       " 'MorganFreeman': 9,\n",
       " 'Robert': 10,\n",
       " 'RogerFederer': 11,\n",
       " 'ScarlletJohansson': 12,\n",
       " 'TomCruise': 13,\n",
       " 'WillSmith': 14}"
      ]
     },
     "execution_count": 8,
     "metadata": {
      "tags": []
     },
     "output_type": "execute_result"
    }
   ],
   "source": [
    "train_dataset = image_datasets['train']\n",
    "train_dataset.class_to_idx"
   ]
  },
  {
   "cell_type": "code",
   "execution_count": null,
   "metadata": {
    "colab": {
     "base_uri": "https://localhost:8080/",
     "height": 87
    },
    "colab_type": "code",
    "id": "2VxJSnPhZou2",
    "outputId": "cd5334f8-5cc0-498e-b55b-1b9ee9881010"
   },
   "outputs": [
    {
     "name": "stdout",
     "output_type": "stream",
     "text": [
      "Epoch: 1 | Batch index: 0 | Batch size: 16\n",
      "break minibatch for-loop\n",
      "Epoch: 2 | Batch index: 0 | Batch size: 16\n",
      "break minibatch for-loop\n"
     ]
    }
   ],
   "source": [
    "num_epochs = 2\n",
    "for epoch in range(num_epochs):\n",
    "\n",
    "    for batch_idx, (x, y) in enumerate(data_loaders['train']):\n",
    "        \n",
    "        print('Epoch:', epoch+1, end='')\n",
    "        print(' | Batch index:', batch_idx, end='')\n",
    "        print(' | Batch size:', y.size()[0])\n",
    "        \n",
    "\n",
    "        print('break minibatch for-loop')\n",
    "        break"
   ]
  },
  {
   "cell_type": "markdown",
   "metadata": {
    "colab_type": "text",
    "id": "gzT1Ss6weobc"
   },
   "source": [
    "# Train function"
   ]
  },
  {
   "cell_type": "code",
   "execution_count": null,
   "metadata": {
    "colab": {},
    "colab_type": "code",
    "id": "5EQ9-NGOem_I"
   },
   "outputs": [],
   "source": [
    "def compute_epoch_loss(model, data_loader):\n",
    "    model.eval()\n",
    "    curr_loss, num_examples = 0., 0\n",
    "    with torch.no_grad():\n",
    "        for features, targets in data_loader:\n",
    "            features = features.to(DEVICE)\n",
    "            targets = targets.to(DEVICE)\n",
    "            logits = model(features)\n",
    "            loss = F.cross_entropy(logits, targets, reduction='sum')\n",
    "            num_examples += targets.size(0)\n",
    "            curr_loss += loss\n",
    "\n",
    "        curr_loss = curr_loss / num_examples\n",
    "        return curr_loss\n",
    "    \n",
    "\n",
    "  \n",
    "    \n",
    "def compute_accuracy(model, data_loader):\n",
    "    model.eval()\n",
    "    correct_pred, num_examples = 0, 0\n",
    "    for i, (features, targets) in enumerate(data_loader):\n",
    "            \n",
    "        features = features.to(DEVICE)\n",
    "        targets = targets.to(DEVICE)\n",
    "\n",
    "        logits = model(features)\n",
    "        _, predicted_labels = torch.max(logits, 1)\n",
    "        num_examples += targets.size(0)\n",
    "        correct_pred += (predicted_labels == targets).sum()\n",
    "    return correct_pred.float()/num_examples * 100\n",
    " "
   ]
  },
  {
   "cell_type": "code",
   "execution_count": null,
   "metadata": {
    "colab": {},
    "colab_type": "code",
    "id": "keROhw6MeuOi"
   },
   "outputs": [],
   "source": [
    "def train(model, train_loader, test_loader, NUM_EPOCHS):\n",
    "\n",
    "    minibatch_cost, epoch_cost = [], []\n",
    "    start_time = time.time()\n",
    "    for epoch in range(NUM_EPOCHS):\n",
    "\n",
    "        model.train()\n",
    "        for batch_idx, (features, targets) in enumerate(train_loader):\n",
    "\n",
    "            features = features.to(DEVICE)\n",
    "            targets = targets.to(DEVICE)\n",
    "\n",
    "            ### FORWARD AND BACK PROP\n",
    "            logits = model(features)\n",
    "            cost = F.cross_entropy(logits, targets)\n",
    "            optimizer.zero_grad()\n",
    "\n",
    "            cost.backward()\n",
    "            minibatch_cost.append(cost)\n",
    "\n",
    "            ### UPDATE MODEL PARAMETERS\n",
    "            optimizer.step()\n",
    "\n",
    "            ### LOGGING\n",
    "            if not batch_idx % 150:\n",
    "                print ('Epoch: %03d/%03d | Batch %04d/%04d | Cost: %.4f' \n",
    "                       %(epoch+1, NUM_EPOCHS, batch_idx, \n",
    "                         len(train_loader), cost))\n",
    "\n",
    "    \n",
    "        with torch.set_grad_enabled(False): # save memory during inference\n",
    "            print('Epoch: %03d/%03d | Train: %.3f%%' % (\n",
    "                  epoch+1, NUM_EPOCHS, \n",
    "                  compute_accuracy(model, train_loader)))\n",
    "            \n",
    "            cost = compute_epoch_loss(model, train_loader)\n",
    "            epoch_cost.append(cost)\n",
    "\n",
    "        print('Time elapsed: %.2f min' % ((time.time() - start_time)/60))\n",
    "\n",
    "    print('Total Training Time: %.2f min' % ((time.time() - start_time)/60))\n",
    "\n",
    "\n",
    "    with torch.set_grad_enabled(False): # save memory during inference\n",
    "        print('Test accuracy: %.2f%%' % (compute_accuracy(model, test_loader)))\n",
    "\n",
    "    print('Total Time: %.2f min' % ((time.time() - start_time)/60))\n",
    "    \n",
    "    return minibatch_cost, epoch_cost\n",
    "    \n"
   ]
  },
  {
   "cell_type": "markdown",
   "metadata": {
    "colab_type": "text",
    "id": "xJ-K2ILNZ10c"
   },
   "source": [
    "## Model"
   ]
  },
  {
   "cell_type": "code",
   "execution_count": null,
   "metadata": {
    "colab": {},
    "colab_type": "code",
    "id": "neZcFUZGZv05"
   },
   "outputs": [],
   "source": [
    "### some settings\n",
    "#DEVICE = torch.device(\"cuda:0\" if torch.cuda.is_available() else \"cpu\")\n",
    "DEVICE = \"cuda:0\"\n",
    "num_classes = len(image_datasets['train'].classes)"
   ]
  },
  {
   "cell_type": "code",
   "execution_count": null,
   "metadata": {
    "colab": {
     "base_uri": "https://localhost:8080/",
     "height": 52
    },
    "colab_type": "code",
    "id": "9rzMyL6sZ6cB",
    "outputId": "cc0fa5fa-96f4-40a5-ebe0-e51b85afb22b"
   },
   "outputs": [
    {
     "name": "stderr",
     "output_type": "stream",
     "text": [
      "Downloading: \"https://download.pytorch.org/models/resnet101-5d3b4d8f.pth\" to /root/.torch/models/resnet101-5d3b4d8f.pth\n",
      "178728960it [00:01, 97755852.76it/s] \n"
     ]
    }
   ],
   "source": [
    "res101 = models.resnet101(pretrained = True)\n",
    "for parameter in res101.parameters():\n",
    "    parameter.requires_grad = False"
   ]
  },
  {
   "cell_type": "code",
   "execution_count": null,
   "metadata": {
    "colab": {},
    "colab_type": "code",
    "id": "hQs8cz5KaCgt"
   },
   "outputs": [],
   "source": [
    "res101.fc = nn.Sequential(\n",
    "           nn.Linear(in_features=2048, out_features=1000, bias=True),\n",
    "           nn.ReLU(),\n",
    "           nn.Dropout(),\n",
    "           nn.Linear(in_features=1000, out_features= num_classes, bias=True))"
   ]
  },
  {
   "cell_type": "code",
   "execution_count": null,
   "metadata": {
    "colab": {},
    "colab_type": "code",
    "id": "YausgbwRbcl0"
   },
   "outputs": [],
   "source": [
    "train_loader = data_loaders['train']\n",
    "test_loader = data_loaders['test']"
   ]
  },
  {
   "cell_type": "code",
   "execution_count": null,
   "metadata": {
    "colab": {},
    "colab_type": "code",
    "id": "rhVjRCjwc8zS"
   },
   "outputs": [],
   "source": [
    "res101 = res101.to(DEVICE)\n",
    "#res50 = res50.to(DEVICE)\n",
    "#res101 = res101.to(DEVICE)\n",
    "#res152 = res152.to(DEVICE)\n",
    "optimizer = torch.optim.Adam(res101.parameters())"
   ]
  },
  {
   "cell_type": "code",
   "execution_count": null,
   "metadata": {
    "colab": {
     "base_uri": "https://localhost:8080/",
     "height": 2669
    },
    "colab_type": "code",
    "id": "rwsnk_gSbfSP",
    "outputId": "8c07c1bc-f4bd-4551-f6e0-ef0e1880bbc2"
   },
   "outputs": [
    {
     "name": "stdout",
     "output_type": "stream",
     "text": [
      "Epoch: 001/030 | Batch 0000/0368 | Cost: 2.7683\n",
      "Epoch: 001/030 | Batch 0150/0368 | Cost: 2.0997\n",
      "Epoch: 001/030 | Batch 0300/0368 | Cost: 2.1976\n",
      "Epoch: 001/030 | Train: 27.171%\n",
      "Time elapsed: 8.73 min\n",
      "Epoch: 002/030 | Batch 0000/0368 | Cost: 2.1437\n",
      "Epoch: 002/030 | Batch 0150/0368 | Cost: 1.9946\n",
      "Epoch: 002/030 | Batch 0300/0368 | Cost: 2.0143\n",
      "Epoch: 002/030 | Train: 31.725%\n",
      "Time elapsed: 16.77 min\n",
      "Epoch: 003/030 | Batch 0000/0368 | Cost: 2.2869\n",
      "Epoch: 003/030 | Batch 0150/0368 | Cost: 2.0698\n",
      "Epoch: 003/030 | Batch 0300/0368 | Cost: 2.0369\n",
      "Epoch: 003/030 | Train: 34.002%\n",
      "Time elapsed: 24.85 min\n",
      "Epoch: 004/030 | Batch 0000/0368 | Cost: 2.1945\n",
      "Epoch: 004/030 | Batch 0150/0368 | Cost: 2.3887\n",
      "Epoch: 004/030 | Batch 0300/0368 | Cost: 1.3769\n",
      "Epoch: 004/030 | Train: 38.301%\n",
      "Time elapsed: 32.87 min\n",
      "Epoch: 005/030 | Batch 0000/0368 | Cost: 1.7791\n",
      "Epoch: 005/030 | Batch 0150/0368 | Cost: 1.7860\n",
      "Epoch: 005/030 | Batch 0300/0368 | Cost: 2.1166\n",
      "Epoch: 005/030 | Train: 35.259%\n",
      "Time elapsed: 40.92 min\n",
      "Epoch: 006/030 | Batch 0000/0368 | Cost: 2.3924\n",
      "Epoch: 006/030 | Batch 0150/0368 | Cost: 1.7908\n",
      "Epoch: 006/030 | Batch 0300/0368 | Cost: 2.4062\n",
      "Epoch: 006/030 | Train: 41.020%\n",
      "Time elapsed: 48.92 min\n",
      "Epoch: 007/030 | Batch 0000/0368 | Cost: 2.6642\n",
      "Epoch: 007/030 | Batch 0150/0368 | Cost: 1.6930\n",
      "Epoch: 007/030 | Batch 0300/0368 | Cost: 2.3988\n",
      "Epoch: 007/030 | Train: 40.306%\n",
      "Time elapsed: 57.03 min\n",
      "Epoch: 008/030 | Batch 0000/0368 | Cost: 1.8348\n",
      "Epoch: 008/030 | Batch 0150/0368 | Cost: 1.9788\n",
      "Epoch: 008/030 | Batch 0300/0368 | Cost: 1.9185\n",
      "Epoch: 008/030 | Train: 41.359%\n",
      "Time elapsed: 65.08 min\n",
      "Epoch: 009/030 | Batch 0000/0368 | Cost: 1.8950\n",
      "Epoch: 009/030 | Batch 0150/0368 | Cost: 2.1011\n",
      "Epoch: 009/030 | Batch 0300/0368 | Cost: 1.5254\n",
      "Epoch: 009/030 | Train: 39.337%\n",
      "Time elapsed: 73.08 min\n",
      "Epoch: 010/030 | Batch 0000/0368 | Cost: 1.7854\n",
      "Epoch: 010/030 | Batch 0150/0368 | Cost: 1.9127\n",
      "Epoch: 010/030 | Batch 0300/0368 | Cost: 1.8251\n",
      "Epoch: 010/030 | Train: 41.886%\n",
      "Time elapsed: 81.14 min\n",
      "Epoch: 011/030 | Batch 0000/0368 | Cost: 1.6986\n",
      "Epoch: 011/030 | Batch 0150/0368 | Cost: 1.5870\n",
      "Epoch: 011/030 | Batch 0300/0368 | Cost: 1.9517\n",
      "Epoch: 011/030 | Train: 41.818%\n",
      "Time elapsed: 89.21 min\n",
      "Epoch: 012/030 | Batch 0000/0368 | Cost: 2.1796\n",
      "Epoch: 012/030 | Batch 0150/0368 | Cost: 1.9767\n",
      "Epoch: 012/030 | Batch 0300/0368 | Cost: 1.8383\n",
      "Epoch: 012/030 | Train: 43.466%\n",
      "Time elapsed: 97.39 min\n",
      "Epoch: 013/030 | Batch 0000/0368 | Cost: 1.7084\n",
      "Epoch: 013/030 | Batch 0150/0368 | Cost: 1.7901\n",
      "Epoch: 013/030 | Batch 0300/0368 | Cost: 2.1149\n",
      "Epoch: 013/030 | Train: 41.512%\n",
      "Time elapsed: 105.64 min\n",
      "Epoch: 014/030 | Batch 0000/0368 | Cost: 2.2667\n",
      "Epoch: 014/030 | Batch 0150/0368 | Cost: 1.6131\n",
      "Epoch: 014/030 | Batch 0300/0368 | Cost: 1.8527\n",
      "Epoch: 014/030 | Train: 43.076%\n",
      "Time elapsed: 113.84 min\n",
      "Epoch: 015/030 | Batch 0000/0368 | Cost: 1.9638\n",
      "Epoch: 015/030 | Batch 0150/0368 | Cost: 1.6103\n",
      "Epoch: 015/030 | Batch 0300/0368 | Cost: 2.1814\n",
      "Epoch: 015/030 | Train: 43.772%\n",
      "Time elapsed: 122.03 min\n",
      "Epoch: 016/030 | Batch 0000/0368 | Cost: 1.9267\n",
      "Epoch: 016/030 | Batch 0150/0368 | Cost: 2.2842\n",
      "Epoch: 016/030 | Batch 0300/0368 | Cost: 1.6949\n",
      "Epoch: 016/030 | Train: 42.685%\n",
      "Time elapsed: 130.20 min\n",
      "Epoch: 017/030 | Batch 0000/0368 | Cost: 1.9509\n",
      "Epoch: 017/030 | Batch 0150/0368 | Cost: 1.8230\n",
      "Epoch: 017/030 | Batch 0300/0368 | Cost: 1.9606\n",
      "Epoch: 017/030 | Train: 45.540%\n",
      "Time elapsed: 138.41 min\n",
      "Epoch: 018/030 | Batch 0000/0368 | Cost: 1.9172\n",
      "Epoch: 018/030 | Batch 0150/0368 | Cost: 2.0051\n",
      "Epoch: 018/030 | Batch 0300/0368 | Cost: 1.6464\n",
      "Epoch: 018/030 | Train: 44.299%\n",
      "Time elapsed: 146.74 min\n",
      "Epoch: 019/030 | Batch 0000/0368 | Cost: 1.8110\n",
      "Epoch: 019/030 | Batch 0150/0368 | Cost: 1.8447\n",
      "Epoch: 019/030 | Batch 0300/0368 | Cost: 1.4806\n",
      "Epoch: 019/030 | Train: 45.506%\n",
      "Time elapsed: 154.98 min\n",
      "Epoch: 020/030 | Batch 0000/0368 | Cost: 1.5220\n",
      "Epoch: 020/030 | Batch 0150/0368 | Cost: 1.7479\n",
      "Epoch: 020/030 | Batch 0300/0368 | Cost: 2.3643\n",
      "Epoch: 020/030 | Train: 45.930%\n",
      "Time elapsed: 163.35 min\n",
      "Epoch: 021/030 | Batch 0000/0368 | Cost: 2.1504\n",
      "Epoch: 021/030 | Batch 0150/0368 | Cost: 1.8731\n",
      "Epoch: 021/030 | Batch 0300/0368 | Cost: 1.5197\n",
      "Epoch: 021/030 | Train: 47.307%\n",
      "Time elapsed: 171.75 min\n",
      "Epoch: 022/030 | Batch 0000/0368 | Cost: 1.7280\n",
      "Epoch: 022/030 | Batch 0150/0368 | Cost: 1.5108\n",
      "Epoch: 022/030 | Batch 0300/0368 | Cost: 1.9120\n",
      "Epoch: 022/030 | Train: 45.455%\n",
      "Time elapsed: 180.13 min\n",
      "Epoch: 023/030 | Batch 0000/0368 | Cost: 1.3862\n",
      "Epoch: 023/030 | Batch 0150/0368 | Cost: 1.7763\n",
      "Epoch: 023/030 | Batch 0300/0368 | Cost: 1.5652\n",
      "Epoch: 023/030 | Train: 46.712%\n",
      "Time elapsed: 188.43 min\n",
      "Epoch: 024/030 | Batch 0000/0368 | Cost: 1.7338\n",
      "Epoch: 024/030 | Batch 0150/0368 | Cost: 1.5260\n",
      "Epoch: 024/030 | Batch 0300/0368 | Cost: 1.6885\n",
      "Epoch: 024/030 | Train: 45.132%\n",
      "Time elapsed: 196.82 min\n",
      "Epoch: 025/030 | Batch 0000/0368 | Cost: 1.1376\n",
      "Epoch: 025/030 | Batch 0150/0368 | Cost: 1.8110\n",
      "Epoch: 025/030 | Batch 0300/0368 | Cost: 1.4671\n",
      "Epoch: 025/030 | Train: 47.001%\n",
      "Time elapsed: 205.27 min\n",
      "Epoch: 026/030 | Batch 0000/0368 | Cost: 1.8689\n",
      "Epoch: 026/030 | Batch 0150/0368 | Cost: 2.1869\n",
      "Epoch: 026/030 | Batch 0300/0368 | Cost: 1.8817\n",
      "Epoch: 026/030 | Train: 48.054%\n",
      "Time elapsed: 213.66 min\n",
      "Epoch: 027/030 | Batch 0000/0368 | Cost: 2.0729\n",
      "Epoch: 027/030 | Batch 0150/0368 | Cost: 1.6637\n",
      "Epoch: 027/030 | Batch 0300/0368 | Cost: 2.0970\n",
      "Epoch: 027/030 | Train: 47.001%\n",
      "Time elapsed: 222.11 min\n",
      "Epoch: 028/030 | Batch 0000/0368 | Cost: 2.3277\n",
      "Epoch: 028/030 | Batch 0150/0368 | Cost: 2.0893\n",
      "Epoch: 028/030 | Batch 0300/0368 | Cost: 1.2938\n",
      "Epoch: 028/030 | Train: 46.338%\n",
      "Time elapsed: 230.50 min\n",
      "Epoch: 029/030 | Batch 0000/0368 | Cost: 1.6738\n",
      "Epoch: 029/030 | Batch 0150/0368 | Cost: 1.4699\n",
      "Epoch: 029/030 | Batch 0300/0368 | Cost: 1.9130\n",
      "Epoch: 029/030 | Train: 48.207%\n",
      "Time elapsed: 238.92 min\n",
      "Epoch: 030/030 | Batch 0000/0368 | Cost: 1.8670\n",
      "Epoch: 030/030 | Batch 0150/0368 | Cost: 2.0922\n",
      "Epoch: 030/030 | Batch 0300/0368 | Cost: 1.6940\n",
      "Epoch: 030/030 | Train: 47.918%\n",
      "Time elapsed: 247.33 min\n",
      "Total Training Time: 247.33 min\n",
      "Test accuracy: 34.65%\n",
      "Total Time: 248.22 min\n"
     ]
    }
   ],
   "source": [
    "minibatch_cost, epoch_cost = train(res101, train_loader, test_loader, NUM_EPOCHS = 30)"
   ]
  },
  {
   "cell_type": "code",
   "execution_count": null,
   "metadata": {
    "colab": {
     "base_uri": "https://localhost:8080/",
     "height": 567
    },
    "colab_type": "code",
    "id": "3R_fWUj5cRtf",
    "outputId": "23ae99f2-da4a-4fe2-9870-b6a33f848882"
   },
   "outputs": [
    {
     "name": "stdout",
     "output_type": "stream",
     "text": [
      "Test accuracy: 35.88%\n"
     ]
    },
    {
     "data": {
      "image/png": "[encoded data removed]",
      "text/plain": [
       "<Figure size 432x288 with 1 Axes>"
      ]
     },
     "metadata": {
      "tags": []
     },
     "output_type": "display_data"
    },
    {
     "data": {
      "image/png": "[encoded data removed]",
      "text/plain": [
       "<Figure size 432x288 with 1 Axes>"
      ]
     },
     "metadata": {
      "tags": []
     },
     "output_type": "display_data"
    }
   ],
   "source": [
    "test_loader = data_loaders['test']\n",
    "with torch.set_grad_enabled(False): # save memory during inference\n",
    "    print('Test accuracy: %.2f%%' % (compute_accuracy(res101, test_loader)))\n",
    "    \n",
    "\n"
   ]
  },
  {
   "cell_type": "code",
   "execution_count": null,
   "metadata": {
    "colab": {
     "base_uri": "https://localhost:8080/",
     "height": 283
    },
    "colab_type": "code",
    "id": "VduihdgDA8a9",
    "outputId": "e3cca50b-e0ad-4fde-ed8b-bb7676c2193f"
   },
   "outputs": [
    {
     "data": {
      "image/png": "[encoded data removed]",
      "text/plain": [
       "<Figure size 432x288 with 1 Axes>"
      ]
     },
     "metadata": {
      "tags": []
     },
     "output_type": "display_data"
    }
   ],
   "source": [
    "plt.plot(range(len(minibatch_cost)), minibatch_cost)\n",
    "plt.ylabel('Cross Entropy')\n",
    "plt.xlabel('Minibatch')\n",
    "plt.savefig(os.path.join('drive','My Drive','Colab Notebooks','DL_CNN','Minibatch.jpg'))#,dpi = 400)\n",
    "plt.show()\n"
   ]
  },
  {
   "cell_type": "code",
   "execution_count": null,
   "metadata": {
    "colab": {
     "base_uri": "https://localhost:8080/",
     "height": 35
    },
    "colab_type": "code",
    "id": "JwCf5LLuDOmO",
    "outputId": "5d3b2b98-4908-430f-ad2e-b1b4dbe762ac"
   },
   "outputs": [
    {
     "data": {
      "text/plain": [
       "'drive/My Drive/Colab Notebooks/DL_CNN'"
      ]
     },
     "execution_count": 28,
     "metadata": {
      "tags": []
     },
     "output_type": "execute_result"
    }
   ],
   "source": [
    "dire = os.path.join('drive','My Drive','Colab Notebooks','DL_CNN')\n",
    "dire"
   ]
  },
  {
   "cell_type": "code",
   "execution_count": null,
   "metadata": {
    "colab": {
     "base_uri": "https://localhost:8080/",
     "height": 283
    },
    "colab_type": "code",
    "id": "aPkTh1odZhcn",
    "outputId": "2be1de09-d9ce-4863-88db-3ffb138ebc3a"
   },
   "outputs": [
    {
     "data": {
      "image/png": "[encoded data removed]",
      "text/plain": [
       "<Figure size 432x288 with 1 Axes>"
      ]
     },
     "metadata": {
      "tags": []
     },
     "output_type": "display_data"
    }
   ],
   "source": [
    "\n",
    "plt.plot(range(len(epoch_cost)), epoch_cost)\n",
    "plt.ylabel('Cross Entropy')\n",
    "plt.xlabel('Epoch')\n",
    "plt.savefig(os.path.join('drive','My Drive','Colab Notebooks','DL_CNN','epoch.jpg'))#,dpi = 400)\n",
    "plt.show()"
   ]
  },
  {
   "cell_type": "code",
   "execution_count": null,
   "metadata": {
    "colab": {},
    "colab_type": "code",
    "id": "fSJQ4Of-B4nO"
   },
   "outputs": [],
   "source": [
    "with open(os.path.join(dire,'minibatch_cost.txt'), 'w') as f:\n",
    "    for item in minibatch_cost:\n",
    "        f.write(\"%s\\n\" % item)"
   ]
  },
  {
   "cell_type": "code",
   "execution_count": null,
   "metadata": {
    "colab": {},
    "colab_type": "code",
    "id": "Ba65H6yWCvfv"
   },
   "outputs": [],
   "source": [
    "with open(os.path.join(dire,'epoch_cost.txt'), 'w') as f:\n",
    "    for item in epoch_cost:\n",
    "        f.write(\"%s\\n\" % item)"
   ]
  },
  {
   "cell_type": "code",
   "execution_count": null,
   "metadata": {
    "colab": {},
    "colab_type": "code",
    "id": "485VGjpmDxlZ"
   },
   "outputs": [],
   "source": [
    "with open(os.path.join(dire,'epoch_cost.txt'), 'r') as f:\n",
    "    my_list = [line.rstrip('\\n') for line in f]"
   ]
  },
  {
   "cell_type": "code",
   "execution_count": null,
   "metadata": {
    "colab": {
     "base_uri": "https://localhost:8080/",
     "height": 537
    },
    "colab_type": "code",
    "id": "z08xkTJtECD5",
    "outputId": "4363d4ec-9b7b-494f-b19d-5ed79aff9b85"
   },
   "outputs": [
    {
     "data": {
      "text/plain": [
       "[\"tensor(2.1397, device='cuda:0')\",\n",
       " \"tensor(1.9734, device='cuda:0')\",\n",
       " \"tensor(1.9326, device='cuda:0')\",\n",
       " \"tensor(1.8695, device='cuda:0')\",\n",
       " \"tensor(1.8728, device='cuda:0')\",\n",
       " \"tensor(1.7555, device='cuda:0')\",\n",
       " \"tensor(1.7713, device='cuda:0')\",\n",
       " \"tensor(1.7195, device='cuda:0')\",\n",
       " \"tensor(1.7572, device='cuda:0')\",\n",
       " \"tensor(1.6764, device='cuda:0')\",\n",
       " \"tensor(1.6902, device='cuda:0')\",\n",
       " \"tensor(1.6363, device='cuda:0')\",\n",
       " \"tensor(1.6534, device='cuda:0')\",\n",
       " \"tensor(1.6512, device='cuda:0')\",\n",
       " \"tensor(1.6526, device='cuda:0')\",\n",
       " \"tensor(1.6444, device='cuda:0')\",\n",
       " \"tensor(1.6129, device='cuda:0')\",\n",
       " \"tensor(1.5965, device='cuda:0')\",\n",
       " \"tensor(1.5782, device='cuda:0')\",\n",
       " \"tensor(1.6000, device='cuda:0')\",\n",
       " \"tensor(1.5584, device='cuda:0')\",\n",
       " \"tensor(1.5736, device='cuda:0')\",\n",
       " \"tensor(1.6001, device='cuda:0')\",\n",
       " \"tensor(1.6210, device='cuda:0')\",\n",
       " \"tensor(1.5582, device='cuda:0')\",\n",
       " \"tensor(1.5597, device='cuda:0')\",\n",
       " \"tensor(1.5292, device='cuda:0')\",\n",
       " \"tensor(1.5277, device='cuda:0')\",\n",
       " \"tensor(1.5492, device='cuda:0')\",\n",
       " \"tensor(1.5239, device='cuda:0')\"]"
      ]
     },
     "execution_count": 35,
     "metadata": {
      "tags": []
     },
     "output_type": "execute_result"
    }
   ],
   "source": [
    "my_list"
   ]
  },
  {
   "cell_type": "code",
   "execution_count": null,
   "metadata": {
    "colab": {
     "base_uri": "https://localhost:8080/",
     "height": 537
    },
    "colab_type": "code",
    "id": "aqCDlP2vEDaU",
    "outputId": "9605c2f8-4d6a-4bec-ee50-7b95cd16fb9b"
   },
   "outputs": [
    {
     "data": {
      "text/plain": [
       "[tensor(2.1397, device='cuda:0'),\n",
       " tensor(1.9734, device='cuda:0'),\n",
       " tensor(1.9326, device='cuda:0'),\n",
       " tensor(1.8695, device='cuda:0'),\n",
       " tensor(1.8728, device='cuda:0'),\n",
       " tensor(1.7555, device='cuda:0'),\n",
       " tensor(1.7713, device='cuda:0'),\n",
       " tensor(1.7195, device='cuda:0'),\n",
       " tensor(1.7572, device='cuda:0'),\n",
       " tensor(1.6764, device='cuda:0'),\n",
       " tensor(1.6902, device='cuda:0'),\n",
       " tensor(1.6363, device='cuda:0'),\n",
       " tensor(1.6534, device='cuda:0'),\n",
       " tensor(1.6512, device='cuda:0'),\n",
       " tensor(1.6526, device='cuda:0'),\n",
       " tensor(1.6444, device='cuda:0'),\n",
       " tensor(1.6129, device='cuda:0'),\n",
       " tensor(1.5965, device='cuda:0'),\n",
       " tensor(1.5782, device='cuda:0'),\n",
       " tensor(1.6000, device='cuda:0'),\n",
       " tensor(1.5584, device='cuda:0'),\n",
       " tensor(1.5736, device='cuda:0'),\n",
       " tensor(1.6001, device='cuda:0'),\n",
       " tensor(1.6210, device='cuda:0'),\n",
       " tensor(1.5582, device='cuda:0'),\n",
       " tensor(1.5597, device='cuda:0'),\n",
       " tensor(1.5292, device='cuda:0'),\n",
       " tensor(1.5277, device='cuda:0'),\n",
       " tensor(1.5492, device='cuda:0'),\n",
       " tensor(1.5239, device='cuda:0')]"
      ]
     },
     "execution_count": 36,
     "metadata": {
      "tags": []
     },
     "output_type": "execute_result"
    }
   ],
   "source": [
    "epoch_cost"
   ]
  },
  {
   "cell_type": "code",
   "execution_count": null,
   "metadata": {
    "colab": {},
    "colab_type": "code",
    "id": "u-kqVvV_EKrf"
   },
   "outputs": [],
   "source": []
  }
 ],
 "metadata": {
  "accelerator": "GPU",
  "colab": {
   "collapsed_sections": [],
   "name": "DLresnet.ipynb",
   "provenance": [],
   "version": "0.3.2"
  },
  "kernelspec": {
   "display_name": "Python 3",
   "language": "python",
   "name": "python3"
  },
  "language_info": {
   "codemirror_mode": {
    "name": "ipython",
    "version": 3
   },
   "file_extension": ".py",
   "mimetype": "text/x-python",
   "name": "python",
   "nbconvert_exporter": "python",
   "pygments_lexer": "ipython3",
   "version": "3.6.8"
  }
 },
 "nbformat": 4,
 "nbformat_minor": 2
}
